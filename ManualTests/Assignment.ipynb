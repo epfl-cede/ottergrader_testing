{
  "cells": [
    {
      "cell_type": "code",
      "execution_count": 1,
      "id": "c043202a-5589-427c-9775-8611eb2d1c23",
      "metadata": {
        "colab": {
          "base_uri": "https://localhost:8080/",
          "height": 332
        },
        "id": "c043202a-5589-427c-9775-8611eb2d1c23",
        "outputId": "b7633584-7b8e-405f-e900-432d51f6ca90"
      },
      "outputs": [
        {
          "output_type": "error",
          "ename": "ModuleNotFoundError",
          "evalue": "No module named 'otter'",
          "traceback": [
            "\u001b[0;31m---------------------------------------------------------------------------\u001b[0m",
            "\u001b[0;31mModuleNotFoundError\u001b[0m                       Traceback (most recent call last)",
            "\u001b[0;32m<ipython-input-1-366d1f018e3b>\u001b[0m in \u001b[0;36m<cell line: 1>\u001b[0;34m()\u001b[0m\n\u001b[0;32m----> 1\u001b[0;31m \u001b[0;32mimport\u001b[0m \u001b[0motter\u001b[0m\u001b[0;34m\u001b[0m\u001b[0;34m\u001b[0m\u001b[0m\n\u001b[0m\u001b[1;32m      2\u001b[0m \u001b[0mgrader\u001b[0m \u001b[0;34m=\u001b[0m \u001b[0motter\u001b[0m\u001b[0;34m.\u001b[0m\u001b[0mNotebook\u001b[0m\u001b[0;34m(\u001b[0m\u001b[0;34m)\u001b[0m\u001b[0;34m\u001b[0m\u001b[0;34m\u001b[0m\u001b[0m\n",
            "\u001b[0;31mModuleNotFoundError\u001b[0m: No module named 'otter'",
            "",
            "\u001b[0;31m---------------------------------------------------------------------------\u001b[0;32m\nNOTE: If your import is failing due to a missing package, you can\nmanually install dependencies using either !pip or !apt.\n\nTo view examples of installing some common dependencies, click the\n\"Open Examples\" button below.\n\u001b[0;31m---------------------------------------------------------------------------\u001b[0m\n"
          ],
          "errorDetails": {
            "actions": [
              {
                "action": "open_url",
                "actionText": "Open Examples",
                "url": "/notebooks/snippets/importing_libraries.ipynb"
              }
            ]
          }
        }
      ],
      "source": [
        "import otter\n",
        "grader = otter.Notebook()"
      ]
    },
    {
      "cell_type": "code",
      "execution_count": 2,
      "id": "b3ad906c-72bb-4fda-98e6-84390e2acde0",
      "metadata": {
        "colab": {
          "base_uri": "https://localhost:8080/"
        },
        "id": "b3ad906c-72bb-4fda-98e6-84390e2acde0",
        "outputId": "fd8b0de9-fe2d-494a-f539-e68ef432d99f"
      },
      "outputs": [
        {
          "output_type": "stream",
          "name": "stdout",
          "text": [
            "Function defined.\n"
          ]
        }
      ],
      "source": [
        "# Then let's define the function\n",
        "def tension_norm(g, m, alpha):\n",
        "    tension = 421 # REPLACE \"421\" BY YOUR EQUATION HERE\n",
        "    return tension\n",
        "\n",
        "# And display a message once it is defined\n",
        "print(\"Function defined.\")"
      ]
    },
    {
      "cell_type": "code",
      "execution_count": null,
      "id": "f6dc8518-aaea-4ac0-83af-04ba7a022167",
      "metadata": {
        "id": "f6dc8518-aaea-4ac0-83af-04ba7a022167"
      },
      "outputs": [],
      "source": [
        "grader.check(\"q1\")"
      ]
    },
    {
      "cell_type": "code",
      "execution_count": 3,
      "id": "3df12a83-5d0d-4b7d-94bc-9bb53fb11752",
      "metadata": {
        "colab": {
          "base_uri": "https://localhost:8080/"
        },
        "id": "3df12a83-5d0d-4b7d-94bc-9bb53fb11752",
        "outputId": "875d853b-3096-4a27-b35e-addc4ad5ae62"
      },
      "outputs": [
        {
          "output_type": "execute_result",
          "data": {
            "text/plain": [
              "421"
            ]
          },
          "metadata": {},
          "execution_count": 3
        }
      ],
      "source": [
        "tension_norm(9.81, 3, 0.5)"
      ]
    },
    {
      "cell_type": "code",
      "source": [],
      "metadata": {
        "id": "VDJxtJIuysAq"
      },
      "id": "VDJxtJIuysAq",
      "execution_count": null,
      "outputs": []
    }
  ],
  "metadata": {
    "kernelspec": {
      "display_name": "Python",
      "language": "python",
      "name": "python3"
    },
    "language_info": {
      "codemirror_mode": {
        "name": "ipython",
        "version": 3
      },
      "file_extension": ".py",
      "mimetype": "text/x-python",
      "name": "python",
      "nbconvert_exporter": "python",
      "pygments_lexer": "ipython3",
      "version": "3.8.10"
    },
    "colab": {
      "provenance": []
    }
  },
  "nbformat": 4,
  "nbformat_minor": 5
}