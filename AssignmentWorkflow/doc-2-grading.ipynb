{
 "cells": [
  {
   "cell_type": "markdown",
   "id": "2368d6c5-d7f9-4981-a197-d52b9e56b89c",
   "metadata": {},
   "source": [
    "# Grading students' submissions"
   ]
  },
  {
   "cell_type": "markdown",
   "id": "e1a004f2-5b5a-40c8-8796-77c99a2c6666",
   "metadata": {},
   "source": [
    "--- \n",
    "\n",
    "## Grading on the containerized grading server (preferred option)\n",
    "\n",
    "Grading on our containerized grading server, where students' submissions are executed in separate Docker containers is the **recommended option for security reasons**.  \n",
    "To be able to use the grading server, you will need to **send a request for access** to noto-support@groupes.epfl.ch\n",
    "\n",
    "Once you have been granted the access, you can then copy the following `otter grade` command line in a noto terminal:\n",
    "\n",
    "`DOCKER_BUILDKIT=1 DOCKER_HOST=ssh://grader@10.95.33.212 otter grade -v -a dist/autograder/assignment-autograder_*.zip -n remote_test2 --ext ipynb --pdfs --containers 1 moodlesubmissions/*/*`\n",
    "\n",
    "Parameters:\n",
    "* `-v`: verbose output\n",
    "* `-a` + path: path to the grader zip in your local folder\n",
    "* `-n` + name: an assignment name to use in the Docker image tag (free text ; keep it short)\n",
    "* `--ext ipynb`: nature of the files to grades, \"ipynb\" for notebooks\n",
    "* `--pdfs`: generate pdfs of the students' submissions and copy them in the local folder for further manual grading\n",
    "* `--containers` + number: number of parallel containers to use (to speed up grading in the case of large number of submissions)\n",
    "* path: path to the students' submissions in your local folder\n",
    "\n",
    "Other parameters can be added in a separate JSON configuration file, with the default name `otter_config.json`.  \n",
    "The configuration file can be added explicitly to the command line with the `-c` + path option.  \n",
    "More information here: https://otter-grader.readthedocs.io/en/latest/workflow/otter_generate/index.html#grading-configurations\n",
    "or by running `otter grade --help` in the terminal.\n",
    "\n",
    "Once the grading is complete, the grades can be found in the `final_grades.csv` file.\n",
    "A PDF is generated from the submitted notebook during the grading, and ends up in the `submission_pdfs` folder.\n",
    "**Note that there is a currently bug**: all pdfs have the same name if the submitted notebooks have the same name..."
   ]
  },
  {
   "cell_type": "markdown",
   "id": "dea6b02b-c476-43c2-8094-9151e8c56a0f",
   "metadata": {},
   "source": [
    "---\n",
    "\n",
    "## Grading locally\n",
    "\n",
    "For testing purposes, grading locally on noto is possible using  the `grade_submission` API.  \n",
    "In this notebook, we demonstrate how to iterate over the individual submissions and call the grader, then generate 2 CSV files for each student (1 with the overall grade and 1 with the detailed grading) as well as a moodle-specific CSV file with the results of the grading.  \n",
    "The individual moodle-specific CSV files are then agregated to build an overall gradebook that can be imported into moodle.\n",
    "\n",
    "\n",
    "**Limitations:** \n",
    "* this method is not secure, to use only for test purposes!\n",
    "* this method is sequential and may take a lot of time if there are lots of submission"
   ]
  },
  {
   "cell_type": "markdown",
   "id": "11fa84d1-f394-45d7-a5f7-64fe97576ffc",
   "metadata": {
    "tags": []
   },
   "source": [
    "### Importing grading utility functions\n",
    "\n",
    "> **PENDING**: look at grades vs. points - computation seems complex with multiple cases depending where the points are specified (at level of question or tests or test)  "
   ]
  },
  {
   "cell_type": "code",
   "execution_count": null,
   "id": "0fba2641-80fe-476c-bb40-8798a391a95b",
   "metadata": {},
   "outputs": [],
   "source": [
    "from grading_utils import *"
   ]
  },
  {
   "cell_type": "markdown",
   "id": "9b4aa7bd-1203-48b4-b7b7-d3e48de565ea",
   "metadata": {},
   "source": [
    "### Retrieving the grader"
   ]
  },
  {
   "cell_type": "code",
   "execution_count": null,
   "id": "2129ca42-a81e-44ce-99c9-a299b7578627",
   "metadata": {},
   "outputs": [],
   "source": [
    "# Folder in which the assignment and grader has been generated\n",
    "distributionfolder = \"dist\"\n",
    "\n",
    "# Name of the assignment **file**\n",
    "assignmentname = \"assignment\"\n",
    "\n",
    "# Retrieving the grader zip\n",
    "graderzip = glob.glob(distributionfolder+\"/autograder/\"+assignmentname+\"-autograder_*.zip\")[0]\n",
    "graderzip"
   ]
  },
  {
   "cell_type": "markdown",
   "id": "7651bf6e-95cf-473d-b095-d9c438e148ee",
   "metadata": {},
   "source": [
    "### Retrieving students' submission folders"
   ]
  },
  {
   "cell_type": "code",
   "execution_count": null,
   "id": "4c72e9af-2750-4989-b235-8595bc539f16",
   "metadata": {},
   "outputs": [],
   "source": [
    "# Folder in which to find students' submission folders\n",
    "allsubmissionsfolder = \"moodlesubmissions/\"\n",
    "\n",
    "# Listing all the submissions (folders)\n",
    "submissionlist = glob.glob(allsubmissionsfolder+\"/*/\")\n",
    "submissionlist"
   ]
  },
  {
   "cell_type": "markdown",
   "id": "2b0b12e2-e05e-4377-97f6-4c24fdafe50c",
   "metadata": {},
   "source": [
    "### Iterating over submissions, calling the grader and storing the results into CSV files  \n",
    "\n",
    "We iterate over each submission folder and evaluate the submitted notebook with the grader.  \n",
    "The result of the grading is stored into individual CSV files which are stored in a `gradebook` folder inside the submission folder:\n",
    "- 1 file with the overall result (overall points/grade)\n",
    "- 1 file with the messages resulting from the grader (points per question + test messages)\n",
    "- the original `gradebook` file provided by moodle is updated with the results of the grading"
   ]
  },
  {
   "cell_type": "code",
   "execution_count": null,
   "id": "a0fb2215-4b39-4e31-8fa0-d5ca0ea8c5ae",
   "metadata": {
    "tags": []
   },
   "outputs": [],
   "source": [
    "%%time\n",
    "\n",
    "# Folder where to find the moodle grading sheets\n",
    "moodlegradingsheetfolder = \"gradebook\"\n",
    "\n",
    "# List of generated moodle data\n",
    "moodledata = []\n",
    "\n",
    "# Iterating over submission folders\n",
    "for submissionfolder in submissionlist:\n",
    "    \n",
    "    # Finding the notebook to grade, using recursive exploration (\"**/\" pattern + recursive=True) to go across potential subfolders /!\\ WATCH OUT for execution time...\n",
    "    submissionfile = glob.glob(submissionfolder+\"**/\"+assignmentname+\".ipynb\", recursive=True)[0] # TODO here do some error management\n",
    "    #print(submissionfile)\n",
    "    \n",
    "    # Grading the individual notebook\n",
    "    graderresultdf, graderdetailsdf = grade_single_submission(submissionfile, graderzip, submissionfolder+\"/\"+moodlegradingsheetfolder, includetestcasemessages=True, saveinlocalCSV=True)\n",
    "    #display(graderresultdf)\n",
    "    #display(graderdetailsdf)\n",
    "    \n",
    "    # Reading and updating the associated moodle CSV file for this notebook\n",
    "    moodlegradebookfile = glob.glob(submissionfolder+\"/\"+moodlegradingsheetfolder+\"/*_grading.csv\")[0] # TODO here do some error management\n",
    "    moodledf = write_moodleCSV_single_submission(moodlegradebookfile, graderresultdf, graderdetailsdf)\n",
    "    #display(moodledf)\n",
    "    \n",
    "    # Collecting all individual moodle information to build the global moodle file\n",
    "    moodledata.append(moodledf);"
   ]
  },
  {
   "cell_type": "markdown",
   "id": "d86a014b-de24-42f2-802d-43fd3c042455",
   "metadata": {},
   "source": [
    "> **/!\\ If the assignment needs some manual grading**: the instructor should go over the individual files and edit the CSV files to update the grades.\n",
    "In that case, the script generating the overall grading sheet should read the updated CSV files instead of working with the list of dataframes...  \n"
   ]
  },
  {
   "cell_type": "markdown",
   "id": "e377ea8b-23d5-4497-b488-4c95ec0ab0d8",
   "metadata": {},
   "source": [
    "### Agregating all the results into 1 CSV file for import in moodle\n",
    "\n",
    "\n",
    "Finally, we aggregate all `gradebook` files together into 1, which can then be uploaded to moodle."
   ]
  },
  {
   "cell_type": "code",
   "execution_count": null,
   "id": "e5446b3a-8f43-4f76-b368-0db4e85697f1",
   "metadata": {
    "tags": []
   },
   "outputs": [],
   "source": [
    "# Saving all the moodle data to a general moodle CSV grading sheet\n",
    "moodledatadf = pd.concat(moodledata)\n",
    "#display(moodledata)\n",
    "moodledatadf.to_csv(allsubmissionsfolder+\"/\"+\"overall_grading.csv\", index=False, quoting=csv.QUOTE_NONNUMERIC); # The quotes are important for the file to be read by moodle"
   ]
  }
 ],
 "metadata": {
  "kernelspec": {
   "display_name": "Python3",
   "language": "python",
   "name": "python3"
  },
  "language_info": {
   "codemirror_mode": {
    "name": "ipython",
    "version": 3
   },
   "file_extension": ".py",
   "mimetype": "text/x-python",
   "name": "python",
   "nbconvert_exporter": "python",
   "pygments_lexer": "ipython3",
   "version": "3.12.11"
  },
  "widgets": {
   "application/vnd.jupyter.widget-state+json": {
    "state": {},
    "version_major": 2,
    "version_minor": 0
   }
  }
 },
 "nbformat": 4,
 "nbformat_minor": 5
}
