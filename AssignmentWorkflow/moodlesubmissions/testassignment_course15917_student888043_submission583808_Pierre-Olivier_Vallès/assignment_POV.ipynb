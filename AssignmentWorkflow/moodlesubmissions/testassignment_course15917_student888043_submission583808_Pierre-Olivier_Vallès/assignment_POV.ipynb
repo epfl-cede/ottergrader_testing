{
 "cells": [
  {
   "cell_type": "markdown",
   "metadata": {},
   "source": [
    "# Assignment\n",
    "\n",
    "This is an example assignment illustrating the basic features of Otter Grader and allowing to demonstrate the whole process:\n",
    "* teacher: generating an assignment\n",
    "* student: working on an assignment and testing work\n",
    "* teacher: autograding\n",
    "\n",
    "<div style=\"padding:8px 0 8px 15px;border-left:3px solid DarkOrange;background-color:#F3F3F3;\">\n",
    "    <span style=\"font-weight:bold;text-decoration:underline;\">Instructions</span><br/>\n",
    "\n",
    "Execute the cell with the imports first.  \n",
    "Then follow the instructions.\n",
    "</div>"
   ]
  },
  {
   "cell_type": "code",
   "execution_count": 1,
   "metadata": {},
   "outputs": [],
   "source": [
    "import pandas as pd\n",
    "import numpy as np\n",
    "\n",
    "%matplotlib inline\n",
    "\n",
    "import otter\n",
    "grader = otter.Notebook(\"assignment.ipynb\") # The name of the notebook is important if there are multiple notebooks in the folder!"
   ]
  },
  {
   "cell_type": "markdown",
   "metadata": {},
   "source": [
    "---"
   ]
  },
  {
   "cell_type": "markdown",
   "metadata": {},
   "source": [
    "# Exercise 1: squaring numbers"
   ]
  },
  {
   "cell_type": "markdown",
   "metadata": {},
   "source": [
    "<div style=\"padding:8px 0 8px 15px;border-left:3px solid #0312aa;background-color:#F3F3F3;\">\n",
    "\n",
    "**1 point:** Your function computes correctly the square of its argument. The type of operator you use does not matter.\n",
    "\n",
    "</div>"
   ]
  },
  {
   "cell_type": "markdown",
   "metadata": {},
   "source": [
    "<div style=\"padding:8px 0 8px 15px;border-left:3px solid #B51F1F;background-color:#F3F3F3;\">\n",
    "    <span style=\"font-weight:bold;text-decoration:underline;\">Question</span><br/>\n",
    "\n",
    "Write a function `square` that returns the square of its argument.\n",
    "</div>"
   ]
  },
  {
   "cell_type": "code",
   "execution_count": 2,
   "metadata": {
    "tags": []
   },
   "outputs": [],
   "source": [
    "def square(x):\n",
    "    if x < 100:\n",
    "        return x*x\n",
    "    elif x >= 100:\n",
    "        return x**3\n",
    "    elif x == 0:\n",
    "        return 0\n",
    "    else:\n",
    "        return -x*2"
   ]
  },
  {
   "cell_type": "code",
   "execution_count": 3,
   "metadata": {
    "deletable": false,
    "editable": false
   },
   "outputs": [
    {
     "data": {
      "text/html": [
       "<p><strong><pre style='display: inline;'>e1</pre></strong> passed!</p><p><strong><pre style='display: inline;'>e1 - 1</pre> message:</strong> Well done! However, keep in mind that these tests are not complete and do not guarantee your code is correct. Did you test your function on different values?</p>"
      ],
      "text/plain": [
       "e1 results: All test cases passed!\n",
       "e1 - 1 message: Well done! However, keep in mind that these tests are not complete and do not guarantee your code is correct. Did you test your function on different values?"
      ]
     },
     "execution_count": 3,
     "metadata": {},
     "output_type": "execute_result"
    }
   ],
   "source": [
    "grader.check(\"e1\")"
   ]
  },
  {
   "cell_type": "markdown",
   "metadata": {},
   "source": [
    "---"
   ]
  },
  {
   "cell_type": "markdown",
   "metadata": {},
   "source": [
    "# Exercise 2: computing a tension in a cable \n",
    "\n",
    "Remember the suspended jeans example seen in the lecture:\n",
    "\n",
    "<img src=\"figs/jeans-sketch-forces-removebg.png\" alt=\"sketch\" style=\"width:400px;\"/>\n",
    "<p style=\"font-style:italic;\">Figure: Angle and forces in the suspended jeans situation</p>\n",
    "\n",
    "We have seen in the lecture that the tension in the cable is defined by:\n",
    "\n",
    "$\n",
    "\\begin{align}\n",
    "\\lvert\\vec{T}\\rvert = \\frac{\\frac{1}{2}.m.g}{sin(\\alpha)}\n",
    "\\end{align}\n",
    "$\n",
    "\n",
    "Your goal is to write a Python function to **compute the tension in the cable** for **different values of the angle $\\alpha$**."
   ]
  },
  {
   "cell_type": "markdown",
   "metadata": {},
   "source": [
    "<div style=\"padding:8px 0 8px 15px;border-left:3px solid #B51F1F;background-color:#F3F3F3;\">\n",
    "    <span style=\"font-weight:bold;text-decoration:underline;\">Question</span><br/>\n",
    "\n",
    "**Complete the code of the function `tension_norm`** by implementing the equation above.  \n",
    "\n",
    "The function takes as inputs the mass of the suspended object and the angle **expressed in degrees**.\n",
    "    \n",
    "Here is some syntax you will need:\n",
    "* variables: you can use `g`, `m` and `alpha`\n",
    "* multiplication: `*`\n",
    "* division: `/`\n",
    "* sinus function $sin(x)$: `np.sin(x)`\n",
    "* number $\\pi$: `np.pi`\n",
    "\n",
    "You can also use parentheses to indicate the order of operations.\n",
    "    \n",
    "</div>"
   ]
  },
  {
   "cell_type": "markdown",
   "metadata": {},
   "source": [
    "<div style=\"padding:8px 0 8px 15px;border-left:3px solid #0312aa;background-color:#F3F3F3;\">\n",
    "\n",
    "**3 points:** Your function computes correctly the tension in the cable for any mass and any angle. For a zero angle, the tension returned should be zero.\n",
    "\n",
    "</div>"
   ]
  },
  {
   "cell_type": "code",
   "execution_count": 4,
   "metadata": {
    "tags": []
   },
   "outputs": [],
   "source": [
    "def tension_norm(m, alpha):\n",
    "    \"\"\"\n",
    "    Computes the tension for a given mass and a given angle.\n",
    "\n",
    "    Parameters\n",
    "    ----------\n",
    "    m : mass of the suspended object\n",
    "    alpha : angle between cable and horizon, expressed in DEGREES\n",
    "\n",
    "    Returns\n",
    "    -------\n",
    "    Tension in the cable as computed by the equation seen in the lecture\n",
    "    \"\"\"\n",
    "    g = 9.81\n",
    "    tension = (1/2*m*g)/(np.sin(alpha*2*np.pi/360))\n",
    "    \n",
    "    return tension"
   ]
  },
  {
   "cell_type": "markdown",
   "metadata": {},
   "source": [
    "Now don't forget to test your functions with several values!"
   ]
  },
  {
   "cell_type": "code",
   "execution_count": 5,
   "metadata": {},
   "outputs": [
    {
     "name": "stdout",
     "output_type": "stream",
     "text": [
      "29.430000000000003\n"
     ]
    }
   ],
   "source": [
    "# Your tests here:\n",
    "print(tension_norm(3, 30))"
   ]
  },
  {
   "cell_type": "code",
   "execution_count": 6,
   "metadata": {
    "deletable": false,
    "editable": false
   },
   "outputs": [
    {
     "data": {
      "text/html": [
       "<p><strong><pre style='display: inline;'>e2</pre></strong> passed!</p><p><strong><pre style='display: inline;'>e2 - 1</pre> message:</strong> Well done! You thought about converting your angle from degrees to radians!</p>"
      ],
      "text/plain": [
       "e2 results: All test cases passed!\n",
       "e2 - 1 message: Well done! You thought about converting your angle from degrees to radians!"
      ]
     },
     "execution_count": 6,
     "metadata": {},
     "output_type": "execute_result"
    }
   ],
   "source": [
    "grader.check(\"e2\")"
   ]
  },
  {
   "cell_type": "markdown",
   "metadata": {},
   "source": [
    "---"
   ]
  },
  {
   "cell_type": "markdown",
   "metadata": {},
   "source": [
    "# Exercise 3: Pandas dataframe operations\n",
    "\n",
    "Let's consider the following list of prices for icecreams at Loom:\n",
    "| flavor | scoops | price |\n",
    "|-----|-----|-----|\n",
    "| chocolate | 1 | 2 |\n",
    "| vanilla | 1 | 1.5 |\n",
    "| chocolate | 2 | 3 |\n",
    "| strawberry | 1 | 2 |\n",
    "| strawberry | 3 | 4 |\n",
    "| vanilla | 2 | 2 |\n",
    "| mint | 1 | 4 |\n",
    "| mint | 2 | 5 |\n",
    "| chocolate | 3 | 5 |\n",
    "\n",
    "<div style=\"padding:8px 0 8px 15px;border-left:3px solid #B51F1F;background-color:#F3F3F3;\">\n",
    "    <span style=\"font-weight:bold;text-decoration:underline;\">Question 1</span><br/>\n",
    "\n",
    "Create a DataFrame mirroring the table above and assign this to `data`.  \n",
    "Then group by the `flavor` column and find the mean price for each flavor; assign this **series** to `price_by_flavor`.    \n",
    "</div>"
   ]
  },
  {
   "cell_type": "markdown",
   "metadata": {},
   "source": [
    "<div style=\"padding:8px 0 8px 15px;border-left:3px solid #0312aa;background-color:#F3F3F3;\">\n",
    "\n",
    "**2 points:** The dataframe correctly reflects the table above in terms of structure and content. The variable `price_by_flavor` contains the correct mean price for each flavor.\n",
    "\n",
    "</div>"
   ]
  },
  {
   "cell_type": "code",
   "execution_count": 7,
   "metadata": {
    "tags": []
   },
   "outputs": [
    {
     "data": {
      "text/plain": [
       "flavor\n",
       "chocolate     11.50\n",
       "mint          22.50\n",
       "strawberry    12.00\n",
       "vanilla        0.76\n",
       "Name: price, dtype: float64"
      ]
     },
     "execution_count": 7,
     "metadata": {},
     "output_type": "execute_result"
    }
   ],
   "source": [
    "d = np.array([\n",
    "    ['chocolate', 1, 2],\n",
    "    ['vanilla', 1, 1.5],\n",
    "    ['chocolate', 2, 3],\n",
    "    ['strawberry', 1, 2],\n",
    "    ['strawberry', 3, 4],\n",
    "    ['vanilla', 2, 2],\n",
    "    ['mint', 1, 4],\n",
    "    ['mint', 2, 5]\n",
    "    ])\n",
    "data = pd.DataFrame(d, columns=['flavor', 'scoops', 'price'])\n",
    "price_by_flavor =  data.groupby('flavor').mean()['price']\n",
    "price_by_flavor"
   ]
  },
  {
   "cell_type": "code",
   "execution_count": 8,
   "metadata": {
    "deletable": false,
    "editable": false
   },
   "outputs": [
    {
     "data": {
      "text/html": [
       "<p><strong><pre style='display: inline;'>e3q1</pre></strong> passed!</p><p><strong><pre style='display: inline;'>e3q1 - 1</pre> message:</strong> Your dataframe seems correctly specified. You can go on and compute the groupby operations.</p><p><strong><pre style='display: inline;'>e3q1 - 2</pre> message:</strong> The structure of the result of your groupby appears to be correct. Make sure you apply the appropriate operator to the result.</p>"
      ],
      "text/plain": [
       "e3q1 results: All test cases passed!\n",
       "e3q1 - 1 message: Your dataframe seems correctly specified. You can go on and compute the groupby operations.\n",
       "e3q1 - 2 message: The structure of the result of your groupby appears to be correct. Make sure you apply the appropriate operator to the result."
      ]
     },
     "execution_count": 8,
     "metadata": {},
     "output_type": "execute_result"
    }
   ],
   "source": [
    "grader.check(\"e3q1\")"
   ]
  },
  {
   "cell_type": "markdown",
   "metadata": {},
   "source": [
    "<!-- BEGIN QUESTION -->\n",
    "\n",
    "<div style=\"padding:8px 0 8px 15px;border-left:3px solid #B51F1F;background-color:#F3F3F3;\">\n",
    "    <span style=\"font-weight:bold;text-decoration:underline;\">Question 2</span><br/>\n",
    "\n",
    "Create a barplot of `price_by_flavor`.\n",
    "</div>"
   ]
  },
  {
   "cell_type": "markdown",
   "metadata": {},
   "source": [
    "<div style=\"padding:8px 0 8px 15px;border-left:3px solid #0312aa;background-color:#F3F3F3;\">\n",
    "\n",
    "**1 point:** The barplot displays the mean price by flavor, whether vertically or horizontally.\n",
    "\n",
    "</div>"
   ]
  },
  {
   "cell_type": "code",
   "execution_count": 9,
   "metadata": {
    "tags": []
   },
   "outputs": [
    {
     "data": {
      "image/png": "[encoded data removed]",
      "text/plain": [
       "<Figure size 640x480 with 1 Axes>"
      ]
     },
     "metadata": {},
     "output_type": "display_data"
    }
   ],
   "source": [
    "ax = price_by_flavor.plot.bar(x='lab', y='val', rot=0)"
   ]
  },
  {
   "cell_type": "markdown",
   "metadata": {},
   "source": [
    "<!-- END QUESTION -->\n",
    "\n",
    "<!-- BEGIN QUESTION -->\n",
    "\n",
    "<div style=\"padding:8px 0 8px 15px;border-left:3px solid #B51F1F;background-color:#F3F3F3;\">\n",
    "    <span style=\"font-weight:bold;text-decoration:underline;\">Question 3</span><br/>\n",
    "\n",
    "Which flavors sells best?\n",
    "</div>"
   ]
  },
  {
   "cell_type": "markdown",
   "metadata": {},
   "source": [
    "<div style=\"padding:8px 0 8px 15px;border-left:3px solid #0312aa;background-color:#F3F3F3;\">\n",
    "\n",
    "**1 point:** The answers indicates the flavor which sells best (only 1 word needed).\n",
    "\n",
    "</div>"
   ]
  },
  {
   "cell_type": "markdown",
   "metadata": {},
   "source": [
    "vanilla"
   ]
  },
  {
   "cell_type": "markdown",
   "metadata": {},
   "source": [
    "<!-- END QUESTION -->\n",
    "\n",
    "---\n",
    "\n",
    "# Submitting your work\n",
    "\n",
    "<div style=\"padding:8px 0 8px 15px;border-left:3px solid DarkOrange;background-color:#F3F3F3;\">\n",
    "    <span style=\"font-weight:bold;text-decoration:underline;\">Instructions</span><br/>\n",
    "\n",
    "1. Make sure that there are no hidden states by **restarting your kernel and running all cells**. Check that the code runs without errors.\n",
    "2. Then **save your notebook** and make sure that all the outputs are present in the file before submitting.  \n",
    "    Please **DO NOT rename the notebook**.\n",
    "3. Connect to moodle, find the assignment link, then create a submission and **select the folder that contains your work**\n",
    "</div>"
   ]
  }
 ],
 "metadata": {
  "kernelspec": {
   "display_name": "Python",
   "language": "python",
   "name": "python3"
  },
  "language_info": {
   "codemirror_mode": {
    "name": "ipython",
    "version": 3
   },
   "file_extension": ".py",
   "mimetype": "text/x-python",
   "name": "python",
   "nbconvert_exporter": "python",
   "pygments_lexer": "ipython3",
   "version": "3.8.10"
  },
  "otter": {
   "OK_FORMAT": true,
   "tests": {
    "e1": {
     "name": "e1",
     "points": null,
     "suites": [
      {
       "cases": [
        {
         "code": ">>> assert square(1) == 1\n>>> assert square(0) == 0\n",
         "failure_message": "These tests indicate that your function does not compute the square of the number. What operator did you choose? Did you test your function on different values?",
         "hidden": false,
         "locked": false,
         "success_message": "Well done! However, keep in mind that these tests are not complete and do not guarantee your code is correct. Did you test your function on different values?"
        }
       ],
       "scored": true,
       "setup": "",
       "teardown": "",
       "type": "doctest"
      }
     ]
    },
    "e2": {
     "name": "e2",
     "points": null,
     "suites": [
      {
       "cases": [
        {
         "code": ">>> assert np.isclose(tension_norm(3, 30), 29.43)\n",
         "failure_message": "Check your computation again, does the sinus function work with angles in degrees?",
         "hidden": false,
         "locked": false,
         "success_message": "Well done! You thought about converting your angle from degrees to radians!"
        }
       ],
       "scored": true,
       "setup": "",
       "teardown": "",
       "type": "doctest"
      }
     ]
    },
    "e3q1": {
     "name": "e3q1",
     "points": null,
     "suites": [
      {
       "cases": [
        {
         "code": ">>> # Check that the dataframe is correctly entered: it should have 4 different flavors\n>>> assert len(data[\"flavor\"].unique()) == 4\n>>> # Check that the dataframe is correctly entered: it should have chocolate, vanilla, strawberry and mint\n>>> for l in [\"chocolate\", \"vanilla\", \"strawberry\", \"mint\"]:\n...     assert l in data[\"flavor\"].unique()\n",
         "failure_message": "It looks like your dataframe does not correspond to the specification. Check it carefully before going further.",
         "hidden": false,
         "locked": false,
         "success_message": "Your dataframe seems correctly specified. You can go on and compute the groupby operations."
        },
        {
         "code": ">>> # The result of the groupby should be a Series\n>>> assert type(price_by_flavor) == pd.Series\n>>> # The result of the groupby should have 4 elements\n>>> assert len(price_by_flavor) == 4\n",
         "failure_message": "The result of your groupby should be a Series with 4 elements. Check your computation again.",
         "hidden": false,
         "locked": false,
         "success_message": "The structure of the result of your groupby appears to be correct. Make sure you apply the appropriate operator to the result."
        }
       ],
       "scored": true,
       "setup": "",
       "teardown": "",
       "type": "doctest"
      }
     ]
    }
   }
  },
  "varInspector": {
   "cols": {
    "lenName": 16,
    "lenType": 16,
    "lenVar": 40
   },
   "kernels_config": {
    "python": {
     "delete_cmd_postfix": "",
     "delete_cmd_prefix": "del ",
     "library": "var_list.py",
     "varRefreshCmd": "print(var_dic_list())"
    },
    "r": {
     "delete_cmd_postfix": ") ",
     "delete_cmd_prefix": "rm(",
     "library": "var_list.r",
     "varRefreshCmd": "cat(var_dic_list()) "
    }
   },
   "types_to_exclude": [
    "module",
    "function",
    "builtin_function_or_method",
    "instance",
    "_Feature"
   ],
   "window_display": false
  }
 },
 "nbformat": 4,
 "nbformat_minor": 4
}
