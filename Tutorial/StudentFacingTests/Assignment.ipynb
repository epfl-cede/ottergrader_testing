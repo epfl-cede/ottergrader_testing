{
 "cells": [
  {
   "cell_type": "code",
   "execution_count": null,
   "id": "c043202a-5589-427c-9775-8611eb2d1c23",
   "metadata": {},
   "outputs": [],
   "source": [
    "import otter\n",
    "grader = otter.Notebook()"
   ]
  },
  {
   "cell_type": "code",
   "execution_count": null,
   "id": "b3ad906c-72bb-4fda-98e6-84390e2acde0",
   "metadata": {},
   "outputs": [],
   "source": [
    "# Then let's define the function\n",
    "def tension_norm(g, m, alpha):\n",
    "    tension = 421 # REPLACE \"421\" BY YOUR EQUATION HERE\n",
    "    return tension\n",
    "\n",
    "# And display a message once it is defined\n",
    "print(\"Function defined.\")"
   ]
  },
  {
   "cell_type": "code",
   "execution_count": null,
   "id": "f6dc8518-aaea-4ac0-83af-04ba7a022167",
   "metadata": {},
   "outputs": [],
   "source": [
    "grader.check(\"q1\")"
   ]
  },
  {
   "cell_type": "code",
   "execution_count": null,
   "id": "3df12a83-5d0d-4b7d-94bc-9bb53fb11752",
   "metadata": {},
   "outputs": [],
   "source": []
  }
 ],
 "metadata": {
  "kernelspec": {
   "display_name": "Python",
   "language": "python",
   "name": "python3"
  },
  "language_info": {
   "codemirror_mode": {
    "name": "ipython",
    "version": 3
   },
   "file_extension": ".py",
   "mimetype": "text/x-python",
   "name": "python",
   "nbconvert_exporter": "python",
   "pygments_lexer": "ipython3",
   "version": "3.8.10"
  }
 },
 "nbformat": 4,
 "nbformat_minor": 5
}
