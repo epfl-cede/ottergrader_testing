{
 "cells": [
  {
   "cell_type": "markdown",
   "id": "22b7584d-cb71-45e1-aeba-594afbfaf208",
   "metadata": {},
   "source": [
    "# Grading students' submissions\n",
    "\n",
    "## Overall solution\n",
    "The CLI interface for the autograder works only with docker containers.  \n",
    "If we want to grade without containers, we will need to use other means.\n",
    "\n",
    "In this notebook, we use the `grade_submission` API.  \n",
    "\n",
    "**Limitations:** this method is sequential and may take a lot of time if there are lots of submission"
   ]
  },
  {
   "cell_type": "markdown",
   "id": "de1e0c05-0b30-4630-b2b1-e0e91605ae1b",
   "metadata": {},
   "source": [
    "## Grading process\n",
    "\n",
    "* Step 1: grade the individual submissions, possibility to generate 2 CSV files for each student: 1 with the overall grade and 1 with the detailed grading\n",
    "* Step 2: fill out the individual CSV from moodle for each student\n",
    "* Step 3: concatenate all moodle CSV files into 1 global gradebook"
   ]
  },
  {
   "cell_type": "code",
   "execution_count": null,
   "id": "7293fe1e-6a38-44d4-bd29-2e314faa18dd",
   "metadata": {},
   "outputs": [],
   "source": [
    "from otter.api import grade_submission # grading api\n",
    "import glob # patterns in accessing file paths\n",
    "import pandas as pd # pandas for saving as csv\n",
    "pd.set_option('display.max_colwidth', None)\n",
    "import csv # csv quoting options\n",
    "from datetime import datetime # date formatting\n",
    "from IPython.display import display # display for debug\n",
    "import itertools as it # iteration tools\n",
    "import os # file management tools"
   ]
  },
  {
   "cell_type": "markdown",
   "id": "11fa84d1-f394-45d7-a5f7-64fe97576ffc",
   "metadata": {
    "jp-MarkdownHeadingCollapsed": true,
    "tags": []
   },
   "source": [
    "## Grading utility functions\n",
    "\n",
    "**TODO**: look at grades vs. points - computation seems complex with multiple cases depending where the points are specified (at level of question or tests or test)  \n",
    "**TODO**: should we allow to display test messages without the details of the points (or only if tests have passed or failed) ?"
   ]
  },
  {
   "cell_type": "code",
   "execution_count": null,
   "id": "952f4250-6898-4025-be18-ed846c40b6ba",
   "metadata": {
    "tags": []
   },
   "outputs": [],
   "source": [
    "def grade_and_writeCSV(submissionfile, graderzip, graderoutputfolder, \n",
    "                       graderdetailsfilename=\"graderdetails\", graderresultfilename=\"graderresult\", \n",
    "                       includetestcasemessages=False):\n",
    "    \n",
    "    # Call the autograder and get the result\n",
    "    gradingoutput = grade_submission(submissionfile, graderzip, quiet=True)\n",
    "    \n",
    "    # Gather the total grade for the submission and save it\n",
    "    graderresultdf = pd.DataFrame([[submissionfile, gradingoutput.total, gradingoutput.possible]], \n",
    "                                  columns=[\"Submission Name\", \"Grade\", \"Possible\"])\n",
    "\n",
    "    # Gather the details of the grading\n",
    "    detailedresults = []\n",
    "    for exercisename, exercise in gradingoutput.results.items():\n",
    "        testcasemessage = \"\"\n",
    "        \n",
    "        # Iterate over the test results to collect the feedback messages if any\n",
    "        if includetestcasemessages:\n",
    "            for test_case_result in exercise.test_case_results:\n",
    "                # name\n",
    "                testcasemessage += \"Test \" + test_case_result.test_case.name+\" (\"\n",
    "                # hidden or public\n",
    "                testcasemessage += \"hidden, \" if test_case_result.test_case.hidden else \"public, \"\n",
    "                # passed or failed\n",
    "                testcasemessage += \"passed)\" if test_case_result.passed else \"failed)\"\n",
    "                # test case message\n",
    "                if (test_case_result.passed and (test_case_result.test_case.success_message is not None)):\n",
    "                    testcasemessage+= \": \" + test_case_result.test_case.success_message\n",
    "                elif ((not test_case_result.passed) and (test_case_result.test_case.failure_message is not None)):\n",
    "                    testcasemessage+= \": \" + test_case_result.test_case.failure_message\n",
    "                testcasemessage += \"\\n\"\n",
    "        \n",
    "        detailedresults.append([exercise.name, exercise.score, exercise.possible, testcasemessage])\n",
    "    \n",
    "    graderdetailsdf = pd.DataFrame(detailedresults, columns=[\"Exercise\", \"Grade\", \"Possible\", \"Feedback\"])\n",
    "\n",
    "    \n",
    "    # Saving the results to CSV files\n",
    "    # Creating the output folder if it does not exist\n",
    "    if not os.path.exists(graderoutputfolder):\n",
    "        os.mkdir(graderoutputfolder)\n",
    "\n",
    "    # Saving the overall grade\n",
    "    graderresultfile = graderoutputfolder+\"/\"+graderresultfilename+\".csv\"\n",
    "    graderresultdf.to_csv(graderresultfile, index=False, quoting=csv.QUOTE_NONNUMERIC)\n",
    "\n",
    "    # Saving the details\n",
    "    graderdetailsfile = graderoutputfolder+\"/\"+graderdetailsfilename+\".csv\"\n",
    "    graderdetailsdf.to_csv(graderdetailsfile, header=False, index=False, quoting=csv.QUOTE_NONNUMERIC)\n",
    "    \n",
    "        \n",
    "    return graderresultdf, graderdetailsdf"
   ]
  },
  {
   "cell_type": "code",
   "execution_count": null,
   "id": "e7441679-56c5-4c11-b60e-feb0300b512c",
   "metadata": {},
   "outputs": [],
   "source": [
    "def write_moodleCSV(moodlegradebookfile, graderresultdf, graderdetailsdf, \n",
    "                    includedetailsgrades=True, includedetailsmsgs=True):\n",
    "\n",
    "    # Read the moodle file\n",
    "    moodledf = pd.read_csv(moodlegradebookfile, skip_blank_lines=True)\n",
    "    #display(moodledf)\n",
    "    \n",
    "    if includedetailsgrades:\n",
    "        # Formatters to get a pretty rendering of the info\n",
    "        exerciseformatter = lambda x: 'Question %s:' % x\n",
    "        gradeformatter = lambda x: '%s /' % x\n",
    "        msgformatter = lambda x: '=> Messages: %s' % x.replace(\"\\n\", \"; \")\n",
    "        \n",
    "        # Transform the details into string\n",
    "        details = graderdetailsdf.to_string(index=False, header=False, \n",
    "                                         columns=[\"Exercise\", \"Grade\", \"Possible\"] + ([\"Feedback\"] if includedetailsmsgs else []),\n",
    "                                         formatters={'Exercise': exerciseformatter, 'Grade': gradeformatter, 'Feedback': msgformatter})\n",
    "        \n",
    "        # Add the details to the moodle info\n",
    "        moodledf.loc[0, \"Feedback comments\"] = details\n",
    "\n",
    "        \n",
    "    # Modify the moodle info\n",
    "    moodledf.loc[0, \"Grade\"] = graderresultdf.loc[0, \"Grade\"]\n",
    "    #moodledf.loc[0, \"Maximum Grade\"] = graderresultdf.loc[0, \"Possible\"] # Actually this line is useless, it is not used by moodle\n",
    "    moodledf.loc[0, \"Last modified (grade)\"] = datetime.today().strftime('%A, %d %B %Y %H:%M') # This line is important for the file to be read by moodle!!!\n",
    "    \n",
    "    \n",
    "    # Write the moodle file\n",
    "    moodledf.to_csv(moodlegradebookfile, index=False, quoting=csv.QUOTE_NONNUMERIC) # The quotes are important for the file to be read by moodle\n",
    "    \n",
    "    return moodledf"
   ]
  },
  {
   "cell_type": "markdown",
   "id": "9b4aa7bd-1203-48b4-b7b7-d3e48de565ea",
   "metadata": {},
   "source": [
    "## Grading and generation of the output\n",
    "\n",
    "### First retrieving the grader"
   ]
  },
  {
   "cell_type": "code",
   "execution_count": null,
   "id": "2129ca42-a81e-44ce-99c9-a299b7578627",
   "metadata": {},
   "outputs": [],
   "source": [
    "# Folder in which the assignment and grader has been generated\n",
    "distributionfolder = \"dist\"\n",
    "\n",
    "# Name of the assignment **file**\n",
    "assignmentname = \"assignment\"\n",
    "\n",
    "# Retrieving the grader zip\n",
    "graderzip = glob.glob(distributionfolder+\"/autograder/\"+assignmentname+\"-autograder_*.zip\")[0]\n",
    "graderzip"
   ]
  },
  {
   "cell_type": "markdown",
   "id": "7651bf6e-95cf-473d-b095-d9c438e148ee",
   "metadata": {},
   "source": [
    "### Then retrieving students' submission folders"
   ]
  },
  {
   "cell_type": "code",
   "execution_count": null,
   "id": "4c72e9af-2750-4989-b235-8595bc539f16",
   "metadata": {},
   "outputs": [],
   "source": [
    "# Folder in which to find students' submission folders\n",
    "allsubmissionsfolder = \"moodlesubmissions/\"\n",
    "\n",
    "# Listing all the submissions (folders)\n",
    "submissionlist = glob.glob(allsubmissionsfolder+\"/*/\")\n",
    "submissionlist"
   ]
  },
  {
   "cell_type": "markdown",
   "id": "2b0b12e2-e05e-4377-97f6-4c24fdafe50c",
   "metadata": {},
   "source": [
    "### Iterating over submissions, calling the grader and storing the results into CSV files  \n",
    "\n",
    "**TO EXPLORE**: why does the cell returns the graphs generated by students? how can we avoid this?"
   ]
  },
  {
   "cell_type": "code",
   "execution_count": null,
   "id": "a0fb2215-4b39-4e31-8fa0-d5ca0ea8c5ae",
   "metadata": {},
   "outputs": [],
   "source": [
    "%%time\n",
    "\n",
    "# Folder where to find the moodle grading sheets\n",
    "moodlegradingsheetfolder = \"gradebook\"\n",
    "\n",
    "# List of generated moodle data\n",
    "moodledata = []\n",
    "\n",
    "# Iterating over submission folders\n",
    "for submissionfolder in submissionlist:\n",
    "    \n",
    "    # Finding the notebook to grade, using recursive exploration (\"**/\" pattern + recursive=True) to go across potential subfolders /!\\ WATCH OUT for execution time...\n",
    "    submissionfile = glob.glob(submissionfolder+\"**/\"+assignmentname+\".ipynb\", recursive=True)[0] # TODO here do some error management\n",
    "    #print(submissionfile)\n",
    "    \n",
    "    # Grading\n",
    "    graderresultdf, graderdetailsdf = grade_and_writeCSV(submissionfile, graderzip, submissionfolder+\"/\"+moodlegradingsheetfolder, includetestcasemessages=True)\n",
    "    #display(graderresultdf)\n",
    "    #display(graderdetailsdf)\n",
    "    \n",
    "    # Updating the moodle CSV file\n",
    "    moodlegradebookfile = glob.glob(submissionfolder+\"/\"+moodlegradingsheetfolder+\"/*_grading.csv\")[0] # TODO here do some error management\n",
    "    moodledf = write_moodleCSV(moodlegradebookfile, graderresultdf, graderdetailsdf)\n",
    "    #display(moodledf)\n",
    "    \n",
    "    moodledata.append(moodledf)"
   ]
  },
  {
   "cell_type": "markdown",
   "id": "d86a014b-de24-42f2-802d-43fd3c042455",
   "metadata": {},
   "source": [
    "**/!\\ If the assignment needs some manual grading**: the instructor should go over the individual files and edit the CSV files to update the grades.\n",
    "In that case, the script generating the overall grading sheet should read the updated CSV files instead of working with the list of dataframes...  \n",
    "**TODO** think about a solution"
   ]
  },
  {
   "cell_type": "code",
   "execution_count": null,
   "id": "e5446b3a-8f43-4f76-b368-0db4e85697f1",
   "metadata": {},
   "outputs": [],
   "source": [
    "# Saving all the moodle data to a general moodle CSV grading sheet\n",
    "moodledatadf = pd.concat(moodledata)\n",
    "#display(moodledata)\n",
    "moodledatadf.to_csv(allsubmissionsfolder+\"/\"+\"overall_grading.csv\", index=False, quoting=csv.QUOTE_NONNUMERIC); # The quotes are important for the file to be read by moodle"
   ]
  }
 ],
 "metadata": {
  "kernelspec": {
   "display_name": "Python",
   "language": "python",
   "name": "python3"
  },
  "language_info": {
   "codemirror_mode": {
    "name": "ipython",
    "version": 3
   },
   "file_extension": ".py",
   "mimetype": "text/x-python",
   "name": "python",
   "nbconvert_exporter": "python",
   "pygments_lexer": "ipython3",
   "version": "3.8.10"
  }
 },
 "nbformat": 4,
 "nbformat_minor": 5
}
