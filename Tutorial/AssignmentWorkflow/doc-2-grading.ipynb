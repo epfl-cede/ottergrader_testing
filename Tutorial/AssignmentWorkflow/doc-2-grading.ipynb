{
 "cells": [
  {
   "cell_type": "markdown",
   "id": "22b7584d-cb71-45e1-aeba-594afbfaf208",
   "metadata": {},
   "source": [
    "# Grading students' submissions\n",
    "\n",
    "## Overall solution\n",
    "The CLI interface for the autograder works only with docker containers.  \n",
    "If we want to grade without containers, we will need to use other means.\n",
    "\n",
    "In this notebook, we use the `grade_submission` API.  \n",
    "But is is very limited:\n",
    "* It grades single submissions, not batches => we need to automate for batch + use parallel threads for performance?\n",
    "* It returns an object, that we will need to \"parse\" to reconstruct a moodle grading sheet (at least the CLI interface generates a CSV file... maybe it is possible to reuse part of the code?)\n",
    "\n",
    "TODO: for the moment I tested grading on individual .ipynb files, need to test on zip files\n",
    "\n",
    "## How to use it\n",
    "\n",
    "* Go into the dist folder, edit the student version of the assignment and use the public tests\n",
    "* Then try to grade it with the code below"
   ]
  },
  {
   "cell_type": "code",
   "execution_count": null,
   "id": "7293fe1e-6a38-44d4-bd29-2e314faa18dd",
   "metadata": {},
   "outputs": [],
   "source": [
    "from otter.api import grade_submission\n",
    "import glob # to be able to refer to the autograder zip without having to check its name (changes each time it is generated)"
   ]
  },
  {
   "cell_type": "code",
   "execution_count": null,
   "id": "057db5b0-aed6-44a2-8199-8bddb34ff1f5",
   "metadata": {},
   "outputs": [],
   "source": [
    "graderzip = glob.glob(\"dist/autograder/assignment-autograder_*.zip\")[0]\n",
    "graderzip"
   ]
  },
  {
   "cell_type": "code",
   "execution_count": null,
   "id": "f5695597-2987-460f-b968-8b74d9cb3c7c",
   "metadata": {},
   "outputs": [],
   "source": [
    "resultsobject = grade_submission(\"dist/student/assignment.ipynb\", graderzip, quiet=True)\n",
    "resultsobject"
   ]
  },
  {
   "cell_type": "code",
   "execution_count": null,
   "id": "f3a7d6b3-0fc5-4b90-9bca-37a321d326d3",
   "metadata": {},
   "outputs": [],
   "source": [
    "resultsobject.to_dict()"
   ]
  },
  {
   "cell_type": "code",
   "execution_count": null,
   "id": "8c955238-8d4b-45c6-b8fe-40b1edc1926c",
   "metadata": {},
   "outputs": [],
   "source": []
  }
 ],
 "metadata": {
  "kernelspec": {
   "display_name": "Python",
   "language": "python",
   "name": "python3"
  },
  "language_info": {
   "codemirror_mode": {
    "name": "ipython",
    "version": 3
   },
   "file_extension": ".py",
   "mimetype": "text/x-python",
   "name": "python",
   "nbconvert_exporter": "python",
   "pygments_lexer": "ipython3",
   "version": "3.8.10"
  }
 },
 "nbformat": 4,
 "nbformat_minor": 5
}
