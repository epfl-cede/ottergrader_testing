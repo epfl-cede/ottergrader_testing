{
 "cells": [
  {
   "cell_type": "markdown",
   "id": "af74f43b-0d84-4a12-a246-bddbd1172111",
   "metadata": {},
   "source": [
    "# Otter-Grader doc\n",
    "\n",
    "## Generating the assignments for students\n",
    "\n",
    "* complete the assignment notebook with instructions, solutions and tests + don't forget configuration elements\n",
    "* IMPORTANT: execute the assignment notebook and save (the grader needs the outputs)\n",
    "* then in the command line run: `otter assign assignment.ipynb dist` => will generate distrib for students and grader in the \"dist\" folder\n",
    "* the notebook in folder dist/student is pruned to remove config elements, solutions and hidden tests\n",
    "\n",
    "Notes:\n",
    "* if the assignment requires additional files (e.g. figures or data), they need to be specified in the config options at the top of the assignment notebook\n",
    "\n",
    "Once you have gathered students' submissions, you can grade them with the [grading notebook](doc-2-grading.ipynb) (otherwise needs containers)\n",
    "\n",
    "TODO:\n",
    "* we need to test the different options for designing the assignments \n",
    "* I'm not yet sure how the grader grades graphical outputs, TO CHECK\n",
    "* we need to write an appropriate doc for the syntax to create the assignments as the existing one is CRAP!\n",
    "* we need to figure out a way to do batch grading without containers\n",
    "\n"
   ]
  },
  {
   "cell_type": "code",
   "execution_count": null,
   "id": "435a5f2b-c3a6-471e-9b1c-e2cd49bc4455",
   "metadata": {},
   "outputs": [],
   "source": []
  }
 ],
 "metadata": {
  "kernelspec": {
   "display_name": "Python",
   "language": "python",
   "name": "python3"
  },
  "language_info": {
   "codemirror_mode": {
    "name": "ipython",
    "version": 3
   },
   "file_extension": ".py",
   "mimetype": "text/x-python",
   "name": "python",
   "nbconvert_exporter": "python",
   "pygments_lexer": "ipython3",
   "version": "3.8.10"
  }
 },
 "nbformat": 4,
 "nbformat_minor": 5
}
