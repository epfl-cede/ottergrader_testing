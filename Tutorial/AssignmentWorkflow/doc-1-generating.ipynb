{
 "cells": [
  {
   "cell_type": "markdown",
   "id": "b477abc8-aea9-4425-b532-23828290f949",
   "metadata": {},
   "source": [
    "# Generating the assignments for students"
   ]
  },
  {
   "cell_type": "markdown",
   "id": "c51afe98-7135-4954-b186-be04bbbb617d",
   "metadata": {},
   "source": [
    "## 1. Designing the assignment\n",
    "\n",
    "Complete the assignment notebook with questions, solutions and tests.\n",
    "\n",
    "### Configuration\n",
    "Don't forget configuration elements.\n",
    "More information here about the configuration: https://otter-grader.readthedocs.io/en/latest/otter_assign/v1/notebook_format.html#assignment-config\n",
    "\n",
    "Caution:\n",
    "* if the assignment requires additional files (e.g. figures or data), they need to be specified in the config options at the top of the assignment notebook  \n",
    "  /!\\ does NOT take folders, need to specify file by file...\n",
    "* if the assignment notebook is not alone in the folder, then you need to give the name of the notebook which contains the tests to the grader in the init cell otherwise students cannot run the public tests (can be generated automatically using the config \"init cell\" at the top of the assignment)  \n",
    "  /!\\ in that case, the students should NEVER rename the notebook!!!"
   ]
  },
  {
   "cell_type": "raw",
   "id": "249e0bf0-cb19-4b35-acd7-deabdd77ce2d",
   "metadata": {},
   "source": [
    "requirements: null             # the path to a requirements.txt file\n",
    "overwrite_requirements: false  # whether to overwrite Otter's default requirement.txt in Otter Generate\n",
    "environment: null              # the path to a conda environment.yml file\n",
    "run_tests: true                # whether to run the assignment tests against the autograder notebook\n",
    "solutions_pdf: false           # whether to generate a PDF of the solutions notebook\n",
    "template_pdf: false            # whether to generate a filtered Gradescope assignment template PDF\n",
    "init_cell: true                # whether to include an Otter initialization cell in the output notebooks\n",
    "check_all_cell: true           # whether to include an Otter check-all cell in the output notebooks\n",
    "export_cell:                   # whether to include an Otter export cell in the output notebooks\n",
    "  instructions: ''             # additional submission instructions to include in the export cell\n",
    "  pdf: true                    # whether to include a PDF of the notebook in the generated zip file\n",
    "  filtering: true              # whether the generated PDF should be filtered\n",
    "  force_save: false            # whether to force-save the notebook with JavaScript (only works in classic notebook)\n",
    "  run_tests: false             # whether to run student submissions against local tests during export\n",
    "seed: null                     # a seed for intercell seeding\n",
    "generate: false                # grading configurations to be passed to Otter Generate as an otter_config.json; if false, Otter Generate is disabled\n",
    "save_environment: false        # whether to save the student's environment in the log\n",
    "variables: {}                  # a mapping of variable names to type strings for serializing environments\n",
    "ignore_modules: []             # a list of modules to ignore variables from during environment serialization\n",
    "files: []                      # a list of other files to include in the output directories and autograder\n",
    "autograder_files: []           # a list of other files only to include in the autograder\n",
    "plugins: []                    # a list of plugin names and configurations\n",
    "test_files: true               # whether to store tests in separate .py files rather than in the notebook metadata\n",
    "runs_on: default               # the interpreter this notebook will be run on if different from the default IPython interpreter (one of {'default', 'colab', 'jupyterlite'})"
   ]
  },
  {
   "cell_type": "markdown",
   "id": "7a2b7549-8ca2-4ac1-a413-297af5543246",
   "metadata": {},
   "source": [
    "### Advice about tests and feedback messages\n",
    "\n",
    "When grading, the grader will also execute the public tests, which may not have points but may have messages.  \n",
    "For a better readability of the output of the grader, we recommend that hidden tests should have messages.\n"
   ]
  },
  {
   "cell_type": "markdown",
   "id": "8faad52d-a137-42d3-9c43-cfb16259686a",
   "metadata": {},
   "source": [
    "## 2. Generating the student version and the grader\n",
    "\n",
    "**IMPORTANT**: execute the assignment notebook and save it with its outputs (the grader needs the outputs).\n",
    "\n",
    "To generate the student version of the assignment (without solutions, without private tests) and obtain the, run the following `otter assign` command line: \n",
    "\n",
    "`otter assign assignment.ipynb dist` \n",
    "\n",
    "Parameters:\n",
    "* path to the notebook containing the assignment\n",
    "* path to a folder where to put the student version and the grader\n",
    "\n",
    "\n",
    "Once you have gathered students' submissions, you can grade them with the [grading notebook](doc-2-grading.ipynb) (otherwise needs containers)"
   ]
  },
  {
   "cell_type": "markdown",
   "id": "50af1f33-80f9-4e26-bca1-0099db13818b",
   "metadata": {},
   "source": [
    "## TODO\n",
    "* we need to test the different options for designing the assignments \n",
    "* we need to write an **appropriate doc** for the syntax to create the assignments as the existing one is CRAP!\n",
    "* we need to figure out a way to do batch grading without containers"
   ]
  },
  {
   "cell_type": "code",
   "execution_count": null,
   "id": "435a5f2b-c3a6-471e-9b1c-e2cd49bc4455",
   "metadata": {},
   "outputs": [],
   "source": []
  }
 ],
 "metadata": {
  "kernelspec": {
   "display_name": "Python",
   "language": "python",
   "name": "python3"
  },
  "language_info": {
   "codemirror_mode": {
    "name": "ipython",
    "version": 3
   },
   "file_extension": ".py",
   "mimetype": "text/x-python",
   "name": "python",
   "nbconvert_exporter": "python",
   "pygments_lexer": "ipython3",
   "version": "3.8.10"
  }
 },
 "nbformat": 4,
 "nbformat_minor": 5
}
