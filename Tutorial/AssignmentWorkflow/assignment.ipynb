{
 "cells": [
  {
   "cell_type": "raw",
   "metadata": {},
   "source": [
    "# ASSIGNMENT CONFIG\n",
    "run_tests: true       # whether to run the assignment tests against the autograder notebook\n",
    "generate: true        # ##IMPORTANT## grading configurations to be passed to Otter Generate as an otter_config.json; if false, Otter Generate is disabled \n",
    "init_cell: false      # whether to include an Otter initialization cell in the output notebooks\n",
    "export_cell: false    # whether to include an Otter export cell in the output notebooks\n",
    "files: [\"figs/jeans-sketch-forces-removebg.png\"]                      # a list of other files to include in the output directories and autograder"
   ]
  },
  {
   "cell_type": "markdown",
   "metadata": {},
   "source": [
    "# Assignment\n",
    "\n",
    "This is an example assignment illustrating the basic features of Otter Grader and allowing to demonstrate the whole process:\n",
    "* teacher: generating an assignment\n",
    "* student: working on an assignment and testing work\n",
    "* teacher: autograding\n",
    "\n",
    "<div style=\"padding:8px 0 8px 15px;border-left:3px solid DarkOrange;background-color:#F3F3F3;\">\n",
    "    <span style=\"font-weight:bold;text-decoration:underline;\">Instructions</span><br/>\n",
    "\n",
    "Execute the cell with the imports first.  \n",
    "Then follow the instructions.\n",
    "</div>"
   ]
  },
  {
   "cell_type": "markdown",
   "metadata": {},
   "source": [
    "## Ignore ##\n",
    "\n",
    "Notes:\n",
    "* This notebook HAS TO BE EXECUTED before generating the assignment!!!\n",
    "* More information about the different features to specify questions, solutions, tests, etc. here: \n",
    "    * https://github.com/ucbds-infra/otter-grader/blob/master/docs/otter_assign/v1/notebook_format.rst\n",
    "    * https://github.com/okpy/jassign/blob/master/docs/notebook-format.md"
   ]
  },
  {
   "cell_type": "code",
   "execution_count": 1,
   "metadata": {},
   "outputs": [],
   "source": [
    "import pandas as pd\n",
    "import numpy as np\n",
    "\n",
    "%matplotlib inline\n",
    "\n",
    "import otter\n",
    "grader = otter.Notebook(\"assignment.ipynb\") # The name of the notebook is important if there are multiple notebooks in the folder!"
   ]
  },
  {
   "cell_type": "markdown",
   "metadata": {},
   "source": [
    "---"
   ]
  },
  {
   "cell_type": "raw",
   "metadata": {},
   "source": [
    "# BEGIN QUESTION\n",
    "name: e1"
   ]
  },
  {
   "cell_type": "markdown",
   "metadata": {},
   "source": [
    "# Exercise 1: squaring numbers"
   ]
  },
  {
   "cell_type": "markdown",
   "metadata": {},
   "source": [
    "<div style=\"padding:8px 0 8px 15px;border-left:3px solid #0312aa;background-color:#F3F3F3;\">\n",
    "\n",
    "**1 point:** Your function computes correctly the square of its argument. The type of operator you use does not matter.\n",
    "\n",
    "</div>"
   ]
  },
  {
   "cell_type": "markdown",
   "metadata": {},
   "source": [
    "<div style=\"padding:8px 0 8px 15px;border-left:3px solid #B51F1F;background-color:#F3F3F3;\">\n",
    "    <span style=\"font-weight:bold;text-decoration:underline;\">Question</span><br/>\n",
    "\n",
    "Write a function `square` that returns the square of its argument.\n",
    "</div>"
   ]
  },
  {
   "cell_type": "raw",
   "metadata": {},
   "source": [
    "# BEGIN SOLUTION"
   ]
  },
  {
   "cell_type": "code",
   "execution_count": 2,
   "metadata": {},
   "outputs": [],
   "source": [
    "def square(x):\n",
    "    return x**2 # SOLUTION"
   ]
  },
  {
   "cell_type": "raw",
   "metadata": {},
   "source": [
    "# END SOLUTION"
   ]
  },
  {
   "cell_type": "raw",
   "metadata": {},
   "source": [
    "# BEGIN TESTS"
   ]
  },
  {
   "cell_type": "code",
   "execution_count": 3,
   "metadata": {},
   "outputs": [],
   "source": [
    "\"\"\" # BEGIN TEST CONFIG\n",
    "hidden: false\n",
    "failure_message: These tests indicate that your function does not compute the square of the number. What operator did you choose? Did you test your function on different values?\n",
    "success_message: Well done! However, keep in mind that these tests are not complete and do not guarantee your code is correct. Did you test your function on different values?\n",
    "\"\"\" # END TEST CONFIG\n",
    "assert square(1) == 1\n",
    "assert square(0) == 0"
   ]
  },
  {
   "cell_type": "code",
   "execution_count": 4,
   "metadata": {},
   "outputs": [],
   "source": [
    "\"\"\" # BEGIN TEST CONFIG\n",
    "hidden: true\n",
    "points: 1\n",
    "success_message: It looks like your square function indeed computes the square of the number, well done!\n",
    "failure_message: It is probable that your function computes a different power than 2. Did you test your function with different values?\n",
    "\"\"\" # END TEST CONFIG\n",
    "assert square(2.5) == 6.25\n",
    "assert square(-1) == 1"
   ]
  },
  {
   "cell_type": "raw",
   "metadata": {},
   "source": [
    "# END TESTS"
   ]
  },
  {
   "cell_type": "raw",
   "metadata": {},
   "source": [
    "# END QUESTION"
   ]
  },
  {
   "cell_type": "markdown",
   "metadata": {},
   "source": [
    "---"
   ]
  },
  {
   "cell_type": "raw",
   "metadata": {},
   "source": [
    "# BEGIN QUESTION\n",
    "name: e2"
   ]
  },
  {
   "cell_type": "markdown",
   "metadata": {},
   "source": [
    "# Exercise 2: computing a tension in a cable \n",
    "\n",
    "Remember the suspended jeans example seen in the lecture:\n",
    "\n",
    "<img src=\"figs/jeans-sketch-forces-removebg.png\" alt=\"sketch\" style=\"width:400px;\"/>\n",
    "<p style=\"font-style:italic;\">Figure: Angle and forces in the suspended jeans situation</p>\n",
    "\n",
    "We have seen in the lecture that the tension in the cable is defined by:\n",
    "\n",
    "$\n",
    "\\begin{align}\n",
    "\\lvert\\vec{T}\\rvert = \\frac{\\frac{1}{2}.m.g}{sin(\\alpha)}\n",
    "\\end{align}\n",
    "$\n",
    "\n",
    "Your goal is to write a Python function to **compute the tension in the cable** for **different values of the angle $\\alpha$**."
   ]
  },
  {
   "cell_type": "markdown",
   "metadata": {},
   "source": [
    "<div style=\"padding:8px 0 8px 15px;border-left:3px solid #B51F1F;background-color:#F3F3F3;\">\n",
    "    <span style=\"font-weight:bold;text-decoration:underline;\">Question</span><br/>\n",
    "\n",
    "**Complete the code of the function `tension_norm`** by implementing the equation above.  \n",
    "\n",
    "The function takes as inputs the mass of the suspended object and the angle **expressed in degrees**.\n",
    "    \n",
    "Here is some syntax you will need:\n",
    "* variables: you can use `g`, `m` and `alpha`\n",
    "* multiplication: `*`\n",
    "* division: `/`\n",
    "* sinus function $sin(x)$: `np.sin(x)`\n",
    "* number $\\pi$: `np.pi`\n",
    "\n",
    "You can also use parentheses to indicate the order of operations.\n",
    "    \n",
    "</div>"
   ]
  },
  {
   "cell_type": "markdown",
   "metadata": {},
   "source": [
    "<div style=\"padding:8px 0 8px 15px;border-left:3px solid #0312aa;background-color:#F3F3F3;\">\n",
    "\n",
    "**3 points:** Your function computes correctly the tension in the cable for any mass and any angle expressed in *degrees*. For a zero angle, the tension returned should be zero.\n",
    "\n",
    "</div>"
   ]
  },
  {
   "cell_type": "raw",
   "metadata": {},
   "source": [
    "# BEGIN SOLUTION"
   ]
  },
  {
   "cell_type": "code",
   "execution_count": 5,
   "metadata": {},
   "outputs": [],
   "source": [
    "def tension_norm(m, alpha):\n",
    "    \"\"\"\n",
    "    Computes the tension for a given mass and a given angle.\n",
    "\n",
    "    Parameters\n",
    "    ----------\n",
    "    m : mass of the suspended object\n",
    "    alpha : angle between cable and horizon, expressed in DEGREES\n",
    "\n",
    "    Returns\n",
    "    -------\n",
    "    Tension in the cable as computed by the equation seen in the lecture\n",
    "    \"\"\"\n",
    "    g = 9.81\n",
    "    tension = 0\n",
    "    \n",
    "    # BEGIN SOLUTION\n",
    "    # First convert degrees to radians \n",
    "    alpha_radians = alpha * np.pi / 180 \n",
    "    \n",
    "    # Check if the angle is different from zero (otherwise it will return zero)\n",
    "    if alpha != 0: \n",
    "        # Then compute the tension \n",
    "        tension = (1/2 * m * g) / np.sin(alpha_radians) \n",
    "    # END SOLUTION\n",
    "    \n",
    "    return tension"
   ]
  },
  {
   "cell_type": "raw",
   "metadata": {},
   "source": [
    "# END SOLUTION"
   ]
  },
  {
   "cell_type": "markdown",
   "metadata": {},
   "source": [
    "Now don't forget to test your functions with several values!"
   ]
  },
  {
   "cell_type": "code",
   "execution_count": 6,
   "metadata": {},
   "outputs": [],
   "source": [
    "# Your tests here:\n"
   ]
  },
  {
   "cell_type": "raw",
   "metadata": {},
   "source": [
    "# BEGIN TESTS"
   ]
  },
  {
   "cell_type": "code",
   "execution_count": 7,
   "metadata": {},
   "outputs": [],
   "source": [
    "\"\"\" # BEGIN TEST CONFIG\n",
    "hidden: false\n",
    "failure_message: Check your computation again, does the sinus function work with angles in degrees?\n",
    "success_message: Well done! You thought about converting your angle from degrees to radians!\n",
    "\"\"\" # END TEST CONFIG\n",
    "assert np.isclose(tension_norm(3, 30), 29.43)"
   ]
  },
  {
   "cell_type": "code",
   "execution_count": 8,
   "metadata": {},
   "outputs": [],
   "source": [
    "\"\"\" # BEGIN TEST CONFIG\n",
    "hidden: true\n",
    "points: 1\n",
    "success_message: Computation correct (angle converted to radians)\n",
    "failure_message: Computation not correct, angle probably not converted to radians\n",
    "\"\"\" # END TEST CONFIG\n",
    "# Checks that the angle is converted to radians\n",
    "assert np.isclose(tension_norm(3, 2), 421.6393)"
   ]
  },
  {
   "cell_type": "code",
   "execution_count": 9,
   "metadata": {},
   "outputs": [],
   "source": [
    "\"\"\" # BEGIN TEST CONFIG\n",
    "hidden: true\n",
    "points: 1\n",
    "success_message: Mass of the object taken into account in computation\n",
    "failure_message: Mass of the object not taken into account\n",
    "\"\"\" # END TEST CONFIG\n",
    "# Checks that the computation takes the parameter m as an input\n",
    "np.random.seed(42) # SEED\n",
    "assert tension_norm(0, np.random.random())==0"
   ]
  },
  {
   "cell_type": "code",
   "execution_count": 10,
   "metadata": {},
   "outputs": [],
   "source": [
    "\"\"\" # BEGIN TEST CONFIG\n",
    "hidden: true\n",
    "points: 1\n",
    "success_message: Edge case with null angle properly managed\n",
    "failure_message: Edge case with null angle not managed, division by zero possible\n",
    "\"\"\" # END TEST CONFIG\n",
    "# Check that the case of the null angle has been managed\n",
    "assert tension_norm(np.random.random(), 0)==0"
   ]
  },
  {
   "cell_type": "raw",
   "metadata": {},
   "source": [
    "# END TESTS"
   ]
  },
  {
   "cell_type": "raw",
   "metadata": {},
   "source": [
    "# END QUESTION"
   ]
  },
  {
   "cell_type": "markdown",
   "metadata": {},
   "source": [
    "---"
   ]
  },
  {
   "cell_type": "raw",
   "metadata": {},
   "source": [
    "# BEGIN QUESTION\n",
    "name: e3q1"
   ]
  },
  {
   "cell_type": "markdown",
   "metadata": {},
   "source": [
    "# Exercise 3: Pandas dataframe operations\n",
    "\n",
    "Let's consider the following list of prices for icecreams at Loom:\n",
    "| flavor | scoops | price |\n",
    "|-----|-----|-----|\n",
    "| chocolate | 1 | 2 |\n",
    "| vanilla | 1 | 1.5 |\n",
    "| chocolate | 2 | 3 |\n",
    "| strawberry | 1 | 2 |\n",
    "| strawberry | 3 | 4 |\n",
    "| vanilla | 2 | 2 |\n",
    "| mint | 1 | 4 |\n",
    "| mint | 2 | 5 |\n",
    "| chocolate | 3 | 5 |\n",
    "\n",
    "<div style=\"padding:8px 0 8px 15px;border-left:3px solid #B51F1F;background-color:#F3F3F3;\">\n",
    "    <span style=\"font-weight:bold;text-decoration:underline;\">Question 1</span><br/>\n",
    "\n",
    "Create a DataFrame mirroring the table above and assign this to `data`.  \n",
    "Then group by the `flavor` column and find the mean price for each flavor; assign this **series** to `price_by_flavor`.    \n",
    "</div>"
   ]
  },
  {
   "cell_type": "markdown",
   "metadata": {},
   "source": [
    "<div style=\"padding:8px 0 8px 15px;border-left:3px solid #0312aa;background-color:#F3F3F3;\">\n",
    "\n",
    "**2 points:** The dataframe correctly reflects the table above in terms of structure and content. The variable `price_by_flavor` contains the correct mean price for each flavor.\n",
    "\n",
    "</div>"
   ]
  },
  {
   "cell_type": "raw",
   "metadata": {},
   "source": [
    "# BEGIN SOLUTION"
   ]
  },
  {
   "cell_type": "code",
   "execution_count": 11,
   "metadata": {},
   "outputs": [
    {
     "data": {
      "text/plain": [
       "flavor\n",
       "chocolate     3.333333\n",
       "mint          4.500000\n",
       "strawberry    3.000000\n",
       "vanilla       1.750000\n",
       "Name: price, dtype: float64"
      ]
     },
     "execution_count": 11,
     "metadata": {},
     "output_type": "execute_result"
    }
   ],
   "source": [
    "# BEGIN SOLUTION NO PROMPT\n",
    "# Creation of the dataframe\n",
    "data = pd.DataFrame({\n",
    "    \"flavor\": [\"chocolate\", \"vanilla\", \"chocolate\", \"strawberry\", \"strawberry\", \"vanilla\", \"mint\", \n",
    "               \"mint\", \"chocolate\"],\n",
    "    \"scoops\": [1, 1, 2, 1, 3, 2, 1, 2, 3],\n",
    "    \"price\": [2, 1.5, 3, 2, 4, 2, 4, 5, 5]\n",
    "})\n",
    "\n",
    "# Use of groupby to compute the mean per flavor\n",
    "price_by_flavor = data.groupby(\"flavor\").mean()[\"price\"]\n",
    "# END SOLUTION\n",
    "\"\"\" # BEGIN PROMPT\n",
    "data = ...\n",
    "price_by_flavor = ...\n",
    "\"\"\" # END PROMPT\n",
    "price_by_flavor"
   ]
  },
  {
   "cell_type": "raw",
   "metadata": {},
   "source": [
    "# END SOLUTION"
   ]
  },
  {
   "cell_type": "raw",
   "metadata": {},
   "source": [
    "# BEGIN TESTS"
   ]
  },
  {
   "cell_type": "code",
   "execution_count": 12,
   "metadata": {},
   "outputs": [],
   "source": [
    "\"\"\" # BEGIN TEST CONFIG\n",
    "hidden: false\n",
    "failure_message: It looks like your dataframe does not correspond to the specification. Check it carefully before going further.\n",
    "success_message: Your dataframe seems correctly specified. You can go on and compute the groupby operations.\n",
    "\"\"\" # END TEST CONFIG\n",
    "# Check that the dataframe is correctly entered: it should have 4 different flavors\n",
    "assert len(data[\"flavor\"].unique()) == 4\n",
    "# Check that the dataframe is correctly entered: it should have chocolate, vanilla, strawberry and mint\n",
    "for l in [\"chocolate\", \"vanilla\", \"strawberry\", \"mint\"]:\n",
    "    assert l in data[\"flavor\"].unique()"
   ]
  },
  {
   "cell_type": "code",
   "execution_count": 13,
   "metadata": {},
   "outputs": [],
   "source": [
    "\"\"\" # BEGIN TEST CONFIG\n",
    "hidden: false\n",
    "failure_message: The result of your groupby should be a Series with 4 elements. Check your computation again.\n",
    "success_message: The structure of the result of your groupby appears to be correct. Make sure you apply the appropriate operator to the result.\n",
    "\"\"\" # END TEST CONFIG\n",
    "# The result of the groupby should be a Series\n",
    "assert type(price_by_flavor) == pd.Series\n",
    "# The result of the groupby should have 4 elements\n",
    "assert len(price_by_flavor) == 4"
   ]
  },
  {
   "cell_type": "code",
   "execution_count": 14,
   "metadata": {},
   "outputs": [],
   "source": [
    "\"\"\" # BEGIN TEST CONFIG\n",
    "hidden: true\n",
    "points: 2\n",
    "\"\"\" # END TEST CONFIG\n",
    "assert np.isclose(price_by_flavor[\"chocolate\"], 3.33333333)\n",
    "assert np.isclose(price_by_flavor[\"mint\"], 4.5)\n",
    "assert np.isclose(price_by_flavor[\"strawberry\"], 3)\n",
    "assert np.isclose(price_by_flavor[\"vanilla\"], 1.75)"
   ]
  },
  {
   "cell_type": "raw",
   "metadata": {},
   "source": [
    "# END TESTS"
   ]
  },
  {
   "cell_type": "raw",
   "metadata": {},
   "source": [
    "# END QUESTION"
   ]
  },
  {
   "cell_type": "raw",
   "metadata": {},
   "source": [
    "# BEGIN QUESTION\n",
    "name: e3q2\n",
    "manual: true\n",
    "points: 1"
   ]
  },
  {
   "cell_type": "markdown",
   "metadata": {},
   "source": [
    "<div style=\"padding:8px 0 8px 15px;border-left:3px solid #B51F1F;background-color:#F3F3F3;\">\n",
    "    <span style=\"font-weight:bold;text-decoration:underline;\">Question 2</span><br/>\n",
    "\n",
    "Create a barplot of `price_by_flavor`.\n",
    "</div>"
   ]
  },
  {
   "cell_type": "markdown",
   "metadata": {},
   "source": [
    "<div style=\"padding:8px 0 8px 15px;border-left:3px solid #0312aa;background-color:#F3F3F3;\">\n",
    "\n",
    "**1 point:** The barplot displays the mean price by flavor, whether vertically or horizontally.\n",
    "\n",
    "</div>"
   ]
  },
  {
   "cell_type": "raw",
   "metadata": {},
   "source": [
    "# BEGIN SOLUTION"
   ]
  },
  {
   "cell_type": "code",
   "execution_count": 15,
   "metadata": {},
   "outputs": [
    {
     "data": {
      "image/png": "[encoded data removed]",
      "text/plain": [
       "<Figure size 640x480 with 1 Axes>"
      ]
     },
     "metadata": {},
     "output_type": "display_data"
    }
   ],
   "source": [
    "price_by_flavor.plot.bar(); # SOLUTION"
   ]
  },
  {
   "cell_type": "raw",
   "metadata": {},
   "source": [
    "# END SOLUTION"
   ]
  },
  {
   "cell_type": "raw",
   "metadata": {},
   "source": [
    "# END QUESTION"
   ]
  },
  {
   "cell_type": "raw",
   "metadata": {},
   "source": [
    "# BEGIN QUESTION\n",
    "name: e3q3\n",
    "manual: true\n",
    "points: 1"
   ]
  },
  {
   "cell_type": "markdown",
   "metadata": {},
   "source": [
    "<div style=\"padding:8px 0 8px 15px;border-left:3px solid #B51F1F;background-color:#F3F3F3;\">\n",
    "    <span style=\"font-weight:bold;text-decoration:underline;\">Question 3</span><br/>\n",
    "\n",
    "Which flavors sells at the best price on average?\n",
    "</div>"
   ]
  },
  {
   "cell_type": "markdown",
   "metadata": {},
   "source": [
    "<div style=\"padding:8px 0 8px 15px;border-left:3px solid #0312aa;background-color:#F3F3F3;\">\n",
    "\n",
    "**1 point:** The answers indicates the flavor which sells at the best price (only 1 word needed).\n",
    "\n",
    "</div>"
   ]
  },
  {
   "cell_type": "raw",
   "metadata": {},
   "source": [
    "# BEGIN SOLUTION"
   ]
  },
  {
   "cell_type": "markdown",
   "metadata": {},
   "source": [
    "**SOLUTION:** Mint "
   ]
  },
  {
   "cell_type": "raw",
   "metadata": {},
   "source": [
    "# END SOLUTION"
   ]
  },
  {
   "cell_type": "raw",
   "metadata": {},
   "source": [
    "# END QUESTION"
   ]
  },
  {
   "cell_type": "markdown",
   "metadata": {},
   "source": [
    "---\n",
    "\n",
    "# Submitting your work\n",
    "\n",
    "<div style=\"padding:8px 0 8px 15px;border-left:3px solid DarkOrange;background-color:#F3F3F3;\">\n",
    "    <span style=\"font-weight:bold;text-decoration:underline;\">Instructions</span><br/>\n",
    "\n",
    "1. Make sure that there are no hidden states by **restarting your kernel and running all cells**. Check that the code runs without errors.\n",
    "2. Then **save your notebook** and make sure that all the outputs are present in the file before submitting.  \n",
    "    Please **DO NOT rename the notebook**.\n",
    "3. Connect to moodle, find the assignment link, then create a submission and **select the folder that contains your work**\n",
    "</div>"
   ]
  },
  {
   "cell_type": "code",
   "execution_count": null,
   "metadata": {},
   "outputs": [],
   "source": []
  },
  {
   "cell_type": "code",
   "execution_count": null,
   "metadata": {},
   "outputs": [],
   "source": []
  }
 ],
 "metadata": {
  "kernelspec": {
   "display_name": "Python",
   "language": "python",
   "name": "python3"
  },
  "language_info": {
   "codemirror_mode": {
    "name": "ipython",
    "version": 3
   },
   "file_extension": ".py",
   "mimetype": "text/x-python",
   "name": "python",
   "nbconvert_exporter": "python",
   "pygments_lexer": "ipython3",
   "version": "3.8.10"
  },
  "varInspector": {
   "cols": {
    "lenName": 16,
    "lenType": 16,
    "lenVar": 40
   },
   "kernels_config": {
    "python": {
     "delete_cmd_postfix": "",
     "delete_cmd_prefix": "del ",
     "library": "var_list.py",
     "varRefreshCmd": "print(var_dic_list())"
    },
    "r": {
     "delete_cmd_postfix": ") ",
     "delete_cmd_prefix": "rm(",
     "library": "var_list.r",
     "varRefreshCmd": "cat(var_dic_list()) "
    }
   },
   "types_to_exclude": [
    "module",
    "function",
    "builtin_function_or_method",
    "instance",
    "_Feature"
   ],
   "window_display": false
  }
 },
 "nbformat": 4,
 "nbformat_minor": 4
}
